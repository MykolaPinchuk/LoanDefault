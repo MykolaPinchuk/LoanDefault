{
 "cells": [
  {
   "cell_type": "code",
   "execution_count": 4,
   "id": "6fc41d1a-b3d9-4592-a7d7-a9616fcc151a",
   "metadata": {},
   "outputs": [],
   "source": [
    "import json\n",
    "import os\n",
    "import pandas as pd\n",
    "import pickle, joblib\n",
    "\n",
    "from flask import Flask\n",
    "from flask import jsonify\n",
    "from flask import render_template\n",
    "from flask import request\n",
    "from flask import url_for\n",
    "# from googleapiclient import discovery\n",
    "# from oauth2client.client import GoogleCredentials\n",
    "from xgboost import XGBClassifier\n",
    "from category_encoders import MEstimateEncoder\n",
    "\n",
    "from custom_transformers import CrossFoldEncoder"
   ]
  },
  {
   "cell_type": "code",
   "execution_count": 5,
   "id": "f5e0948d-2922-4a74-9335-d25abeb0c6c1",
   "metadata": {},
   "outputs": [
    {
     "name": "stdout",
     "output_type": "stream",
     "text": [
      "opened pickle successfully\n",
      "encoded features are:    sub_grade_encoded  home_ownership_encoded\n",
      "0           0.186802                0.204648\n"
     ]
    },
    {
     "data": {
      "text/plain": [
       "{'term': 36,\n",
       " 'dti': 23.5,\n",
       " 'lti': 26.3,\n",
       " 'acc_open_past_24mths': 4,\n",
       " 'sub_grade_encoded': 0    0.186802\n",
       " Name: sub_grade_encoded, dtype: float64,\n",
       " 'home_ownership_encoded': 0    0.204648\n",
       " Name: home_ownership_encoded, dtype: float64}"
      ]
     },
     "execution_count": 5,
     "metadata": {},
     "output_type": "execute_result"
    }
   ],
   "source": [
    "features = {}\n",
    "features['term'] = int(36.0)\n",
    "features['dti'] = float(23.5)\n",
    "features['lti'] = float(26.3)\n",
    "features['acc_open_past_24mths'] = int(4.0)\n",
    "\n",
    "with open('TEncoder.pkl', 'rb') as handle:\n",
    "    tencoder = joblib.load(handle)\n",
    "\n",
    "print(f'opened pickle successfully')\n",
    "\n",
    "te_features = ['C1', 'OWN', 1]\n",
    "# te_features = [data['subgrade'], data['home_ownership'], 1]\n",
    "te_features = pd.DataFrame(te_features).T\n",
    "te_features.columns = ['sub_grade', 'home_ownership', 'target']\n",
    "encoded_features = tencoder.transform(te_features)\n",
    "\n",
    "print(f'encoded features are: {encoded_features}')\n",
    "\n",
    "features['sub_grade_encoded'] = encoded_features.sub_grade_encoded\n",
    "features['home_ownership_encoded'] = encoded_features.home_ownership_encoded\n",
    "\n",
    "features"
   ]
  },
  {
   "cell_type": "code",
   "execution_count": 8,
   "id": "25927377-ea8f-4b5e-8d67-dc265f06576c",
   "metadata": {},
   "outputs": [
    {
     "data": {
      "text/plain": [
       "0.18680193718690208"
      ]
     },
     "execution_count": 8,
     "metadata": {},
     "output_type": "execute_result"
    }
   ],
   "source": [
    "encoded_features.sub_grade_encoded[0]"
   ]
  },
  {
   "cell_type": "code",
   "execution_count": null,
   "id": "1da9ad2e-4ce5-4d1c-a451-182ee6e6f8e0",
   "metadata": {},
   "outputs": [],
   "source": []
  }
 ],
 "metadata": {
  "environment": {
   "kernel": "python3",
   "name": "common-cu110.m103",
   "type": "gcloud",
   "uri": "gcr.io/deeplearning-platform-release/base-cu110:m103"
  },
  "kernelspec": {
   "display_name": "Python 3",
   "language": "python",
   "name": "python3"
  },
  "language_info": {
   "codemirror_mode": {
    "name": "ipython",
    "version": 3
   },
   "file_extension": ".py",
   "mimetype": "text/x-python",
   "name": "python",
   "nbconvert_exporter": "python",
   "pygments_lexer": "ipython3",
   "version": "3.7.12"
  }
 },
 "nbformat": 4,
 "nbformat_minor": 5
}
