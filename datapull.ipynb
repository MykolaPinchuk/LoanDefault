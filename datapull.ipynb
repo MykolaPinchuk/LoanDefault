{
 "cells": [
  {
   "cell_type": "code",
   "execution_count": 4,
   "id": "387d8f09-8e64-4d8b-8c70-47cdda0b1af2",
   "metadata": {},
   "outputs": [],
   "source": [
    "# !pip install kaggle"
   ]
  },
  {
   "cell_type": "code",
   "execution_count": 5,
   "id": "64cf8b8c-73f1-4d97-af6c-9731da7d69df",
   "metadata": {
    "tags": []
   },
   "outputs": [
    {
     "name": "stdout",
     "output_type": "stream",
     "text": [
      "/home/jupyter\n"
     ]
    }
   ],
   "source": [
    "cd"
   ]
  },
  {
   "cell_type": "code",
   "execution_count": 6,
   "id": "92a60d23-8015-4516-8cda-94b25e660dbe",
   "metadata": {},
   "outputs": [],
   "source": [
    "# mkdir .kaggle"
   ]
  },
  {
   "cell_type": "code",
   "execution_count": 7,
   "id": "8073cda5-665c-42dd-943d-df01948d5df2",
   "metadata": {},
   "outputs": [
    {
     "name": "stdout",
     "output_type": "stream",
     "text": [
      "\u001b[0m\u001b[01;34m.\u001b[0m/             .boto     \u001b[01;34m.docker\u001b[0m/    \u001b[01;34m.ipython\u001b[0m/  \u001b[01;34m.local\u001b[0m/         \u001b[01;34mprojects_data\u001b[0m/\n",
      "\u001b[01;34m..\u001b[0m/            \u001b[01;34m.cache\u001b[0m/   .gitconfig  \u001b[01;34m.jupyter\u001b[0m/  \u001b[01;34m.nv\u001b[0m/            \u001b[01;34msrc\u001b[0m/\n",
      ".bash_history  \u001b[01;34m.config\u001b[0m/  \u001b[01;34m.gsutil\u001b[0m/    \u001b[01;34m.kaggle\u001b[0m/   \u001b[01;34mproject_repos\u001b[0m/  \u001b[01;34mtutorials\u001b[0m/\n"
     ]
    }
   ],
   "source": [
    "ls -a"
   ]
  },
  {
   "cell_type": "code",
   "execution_count": 8,
   "id": "858deddf-d206-4eac-b00c-1641a5092e80",
   "metadata": {},
   "outputs": [],
   "source": [
    "# !gcloud storage cp gs://mpg3-misc/kaggle.json .kaggle"
   ]
  },
  {
   "cell_type": "code",
   "execution_count": 9,
   "id": "68717fda-9c3a-4bd7-a4fa-25d6e5de84d6",
   "metadata": {},
   "outputs": [],
   "source": [
    "# mkdir projects_data"
   ]
  },
  {
   "cell_type": "code",
   "execution_count": 10,
   "id": "9e913422-0265-48e7-82f0-7d642b0aee1c",
   "metadata": {},
   "outputs": [
    {
     "name": "stdout",
     "output_type": "stream",
     "text": [
      "/home/jupyter/projects_data\n"
     ]
    }
   ],
   "source": [
    "cd projects_data"
   ]
  },
  {
   "cell_type": "code",
   "execution_count": 11,
   "id": "08bc5aa2-f0db-4d87-ba81-e506950202ef",
   "metadata": {},
   "outputs": [
    {
     "name": "stdout",
     "output_type": "stream",
     "text": [
      "Warning: Your Kaggle API key is readable by other users on this system! To fix this, you can run 'chmod 600 /home/jupyter/.kaggle/kaggle.json'\n",
      "Downloading lc-800k-sample.zip to /home/jupyter/projects_data\n",
      " 98%|███████████████████████████████████████▎| 107M/109M [00:06<00:00, 22.8MB/s]\n",
      "100%|████████████████████████████████████████| 109M/109M [00:06<00:00, 16.6MB/s]\n"
     ]
    }
   ],
   "source": [
    "!kaggle datasets download -d pmykola/lc-800k-sample"
   ]
  },
  {
   "cell_type": "code",
   "execution_count": 13,
   "id": "98332008-bb1f-426d-9a80-7315030b3191",
   "metadata": {},
   "outputs": [
    {
     "name": "stdout",
     "output_type": "stream",
     "text": [
      "Archive:  lc-800k-sample.zip\n",
      "  inflating: loans/LCLoans_141_800k.pkl  \n"
     ]
    }
   ],
   "source": [
    "!unzip lc-800k-sample.zip -d loans"
   ]
  },
  {
   "cell_type": "code",
   "execution_count": 14,
   "id": "c6c91285-0df1-4318-9174-2c9e656ff5c6",
   "metadata": {},
   "outputs": [
    {
     "name": "stdout",
     "output_type": "stream",
     "text": [
      "/home/jupyter/projects_data/loans\n"
     ]
    }
   ],
   "source": [
    "cd loans"
   ]
  },
  {
   "cell_type": "code",
   "execution_count": 16,
   "id": "56fece97-f53c-4308-ba91-1553111ddcd7",
   "metadata": {},
   "outputs": [
    {
     "name": "stdout",
     "output_type": "stream",
     "text": [
      "Copying file://LCLoans_141_800k.pkl [Content-Type=application/octet-stream]...\n",
      "==> NOTE: You are uploading one or more large file(s), which would run          \n",
      "significantly faster if you enable parallel composite uploads. This\n",
      "feature can be enabled by editing the\n",
      "\"parallel_composite_upload_threshold\" value in your .boto\n",
      "configuration file. However, note that if you do this large files will\n",
      "be uploaded as `composite objects\n",
      "<https://cloud.google.com/storage/docs/composite-objects>`_,which\n",
      "means that any user who downloads such objects will need to have a\n",
      "compiled crcmod installed (see \"gsutil help crcmod\"). This is because\n",
      "without a compiled crcmod, computing checksums on composite objects is\n",
      "so slow that gsutil disables downloads of composite objects.\n",
      "\n",
      "| [1 files][489.4 MiB/489.4 MiB]   20.1 MiB/s                                   \n",
      "Operation completed over 1 objects/489.4 MiB.                                    \n"
     ]
    }
   ],
   "source": [
    "!gsutil cp *.pkl gs://mpg3-model-data/loans"
   ]
  }
 ],
 "metadata": {
  "environment": {
   "kernel": "python3",
   "name": "common-cu110.m103",
   "type": "gcloud",
   "uri": "gcr.io/deeplearning-platform-release/base-cu110:m103"
  },
  "kernelspec": {
   "display_name": "Python 3",
   "language": "python",
   "name": "python3"
  },
  "language_info": {
   "codemirror_mode": {
    "name": "ipython",
    "version": 3
   },
   "file_extension": ".py",
   "mimetype": "text/x-python",
   "name": "python",
   "nbconvert_exporter": "python",
   "pygments_lexer": "ipython3",
   "version": "3.7.12"
  }
 },
 "nbformat": 4,
 "nbformat_minor": 5
}
